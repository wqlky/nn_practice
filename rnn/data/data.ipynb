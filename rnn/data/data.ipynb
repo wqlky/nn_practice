{
 "cells": [
  {
   "cell_type": "code",
   "execution_count": 95,
   "metadata": {},
   "outputs": [],
   "source": [
    "\"\"\"\n",
    "数据来源：https://github.com/L1aoXingyu/Char-RNN-Gluon/tree/master/data\n",
    "\"\"\"\n",
    "import codecs\n",
    "import collections\n",
    "import numpy as np\n",
    "import logging\n",
    "import time\n"
   ]
  },
  {
   "cell_type": "code",
   "execution_count": 96,
   "metadata": {},
   "outputs": [],
   "source": [
    "class TextDataLoader(object):\n",
    "    def __init__(self):\n",
    "        self.word_to_index = None\n",
    "        self.index_to_word = None\n",
    "        self.data = None\n",
    "        self.data_size = 0\n",
    "        self.vocab = None\n",
    "        self.vocab_num = 0\n",
    "\n",
    "    def load_data(self, file_path, max_vocab_num = 5000):\n",
    "        start_time = time.time()\n",
    "        with codecs.open(file_path, mode='r', encoding='utf-8') as f:\n",
    "            file_content = f.readlines()\n",
    "\n",
    "        word_list = [w for line in file_content for w in line]\n",
    "        vocab_count_dict = collections.Counter(word_list)\n",
    "        vocab_count_arr = list(vocab_count_dict.items())\n",
    "        vocab_count_arr.sort(key=lambda x: x[1], reverse=True)\n",
    "        real_vocab_num = len(vocab_count_arr)\n",
    "        if len(vocab_count_arr) > max_vocab_num:\n",
    "            vocab_count_arr = vocab_count_arr[:max_vocab_num]\n",
    "        self.vocab = [x[0] for x in vocab_count_arr]\n",
    "        self.word_to_index = {w: i for i, w in enumerate(self.vocab)}\n",
    "        self.index_to_word = dict(enumerate(self.vocab))\n",
    "        self.vocab_num = len(self.vocab)\n",
    "        data = [ [self.word_to_index[w] for w in line if self.word_to_index.get(w)!= None] \n",
    "                for line in file_content ] \n",
    "        self.data = data\n",
    "        logging.info(\"load data done. real_vocab_num:%d result_vocab_num:%d data_size:%d\",\n",
    "                     real_vocab_num, self.vocab_num, len(self.data))\n",
    "        \n",
    "            \n",
    "        \n",
    "        "
   ]
  },
  {
   "cell_type": "code",
   "execution_count": 97,
   "metadata": {},
   "outputs": [
    {
     "name": "stderr",
     "output_type": "stream",
     "text": [
      "INFO:root:load data done. real_vocab_num:5387 result_vocab_num:100 data_size:72514\n"
     ]
    },
    {
     "name": "stdout",
     "output_type": "stream",
     "text": [
      "word_to_index:{'，': 0, '。': 1, '\\n': 2, '不': 3, '人': 4, '山': 5, '风': 6, '日': 7, '云': 8, '无': 9, '何': 10, '一': 11, '春': 12, '月': 13, '水': 14, '花': 15, '来': 16, '有': 17, '中': 18, '秋': 19, '上': 20, '时': 21, '天': 22, '归': 23, '心': 24, '相': 25, '此': 26, '年': 27, '生': 28, '长': 29, '夜': 30, '自': 31, '去': 32, '知': 33, '空': 34, '行': 35, '江': 36, '客': 37, '白': 38, '清': 39, '远': 40, '君': 41, '寒': 42, '见': 43, '为': 44, '在': 45, '高': 46, '里': 47, '雨': 48, '下': 49, '路': 50, '落': 51, '处': 52, '如': 53, '多': 54, '未': 55, '明': 56, '别': 57, '门': 58, '草': 59, '树': 60, '色': 61, '青': 62, '城': 63, '入': 64, '声': 65, '新': 66, '出': 67, '还': 68, '思': 69, '南': 70, '深': 71, '林': 72, '应': 73, '得': 74, '流': 75, '道': 76, '独': 77, '朝': 78, '烟': 79, '开': 80, '雪': 81, '千': 82, '家': 83, '是': 84, '事': 85, '尽': 86, '闲': 87, '飞': 88, '望': 89, '谁': 90, '子': 91, '回': 92, '东': 93, '地': 94, '与': 95, '今': 96, '酒': 97, '同': 98, '前': 99}\n",
      "index_to_word:{0: '，', 1: '。', 2: '\\n', 3: '不', 4: '人', 5: '山', 6: '风', 7: '日', 8: '云', 9: '无', 10: '何', 11: '一', 12: '春', 13: '月', 14: '水', 15: '花', 16: '来', 17: '有', 18: '中', 19: '秋', 20: '上', 21: '时', 22: '天', 23: '归', 24: '心', 25: '相', 26: '此', 27: '年', 28: '生', 29: '长', 30: '夜', 31: '自', 32: '去', 33: '知', 34: '空', 35: '行', 36: '江', 37: '客', 38: '白', 39: '清', 40: '远', 41: '君', 42: '寒', 43: '见', 44: '为', 45: '在', 46: '高', 47: '里', 48: '雨', 49: '下', 50: '路', 51: '落', 52: '处', 53: '如', 54: '多', 55: '未', 56: '明', 57: '别', 58: '门', 59: '草', 60: '树', 61: '色', 62: '青', 63: '城', 64: '入', 65: '声', 66: '新', 67: '出', 68: '还', 69: '思', 70: '南', 71: '深', 72: '林', 73: '应', 74: '得', 75: '流', 76: '道', 77: '独', 78: '朝', 79: '烟', 80: '开', 81: '雪', 82: '千', 83: '家', 84: '是', 85: '事', 86: '尽', 87: '闲', 88: '飞', 89: '望', 90: '谁', 91: '子', 92: '回', 93: '东', 94: '地', 95: '与', 96: '今', 97: '酒', 98: '同', 99: '前'}\n",
      "72514\n",
      "[42, 0, 12, 65, 80, 1, 2]\n",
      "[35, 0, 1]\n"
     ]
    }
   ],
   "source": [
    "\n",
    "\n",
    "if __name__ == \"__main__\":\n",
    "    logger = logging.getLogger()\n",
    "    logger.setLevel(logging.DEBUG)\n",
    "    \n",
    "    loader = TextDataLoader()\n",
    "    loader.load_data(\"poetry.txt\", 100)\n",
    "    print(\"word_to_index:%s\" % loader.word_to_index)\n",
    "    print(\"index_to_word:%s\" % loader.index_to_word)\n",
    "    print(len(loader.data))\n",
    "    print(loader.data[0])\n",
    "    print(loader.data[-1])\n",
    "    logging.getLogger().handlers[0].flush()\n"
   ]
  }
 ],
 "metadata": {
  "kernelspec": {
   "display_name": "Python 3",
   "language": "python",
   "name": "python3"
  },
  "language_info": {
   "codemirror_mode": {
    "name": "ipython",
    "version": 3
   },
   "file_extension": ".py",
   "mimetype": "text/x-python",
   "name": "python",
   "nbconvert_exporter": "python",
   "pygments_lexer": "ipython3",
   "version": "3.7.1"
  },
  "toc": {
   "base_numbering": 1,
   "nav_menu": {},
   "number_sections": true,
   "sideBar": true,
   "skip_h1_title": false,
   "title_cell": "Table of Contents",
   "title_sidebar": "Contents",
   "toc_cell": false,
   "toc_position": {},
   "toc_section_display": true,
   "toc_window_display": false
  }
 },
 "nbformat": 4,
 "nbformat_minor": 2
}
