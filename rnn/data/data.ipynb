{
 "cells": [
  {
   "cell_type": "code",
   "execution_count": 52,
   "metadata": {},
   "outputs": [],
   "source": [
    "\"\"\"\n",
    "数据来源：https://github.com/L1aoXingyu/Char-RNN-Gluon/tree/master/data\n",
    "\"\"\"\n",
    "import codecs\n",
    "import collections\n",
    "import numpy as np\n",
    "import logging\n",
    "import time\n"
   ]
  },
  {
   "cell_type": "code",
   "execution_count": 57,
   "metadata": {},
   "outputs": [],
   "source": [
    "class TextDataLoader(object):\n",
    "    def __init__(self):\n",
    "        self.word_to_index = None\n",
    "        self.index_to_word = None\n",
    "        self.data = None\n",
    "        self.data_size = 0\n",
    "        self.vocab = None\n",
    "        self.vocab_num = 0\n",
    "\n",
    "    def load_data(self, file_path, max_vocab_num = 5000):\n",
    "        start_time = time.time()\n",
    "        with codecs.open(file_path, mode='r', encoding='utf-8') as f:\n",
    "            file_content = f.readlines()\n",
    "\n",
    "        word_list = [w for line in file_content for w in line]\n",
    "        vocab_count_dict = collections.Counter(word_list)\n",
    "        vocab_count_arr = list(vocab_count_dict.items())\n",
    "        vocab_count_arr.sort(key=lambda x: x[1], reverse=True)\n",
    "        real_vocab_num = len(vocab_count_arr)\n",
    "        if len(vocab_count_arr) > max_vocab_num:\n",
    "            vocab_count_arr = vocab_count_arr[:max_vocab_num]\n",
    "        self.vocab = [x[0] for x in vocab_count_arr]\n",
    "        self.word_to_index = {w: i for i, w in enumerate(self.vocab)}\n",
    "        self.index_to_word = dict(enumerate(self.vocab))\n",
    "        self.vocab_num = len(self.vocab)\n",
    "        data = [ self.word_to_index[w] for line in file_content for w in line  if self.word_to_index.get(w)!= None] #TODO unkown word\n",
    "        self.data_size = len(data)\n",
    "        self.data = np.array(data)\n",
    "        logging.info(\"load data done. real_vocab_num:%d result_vocab_num:%d data_size:%d\",\n",
    "                     real_vocab_num, self.vocab_num, self.data_size)\n",
    "        \n",
    "    def random_batch_onehot(self, seq_len, batch_size):\n",
    "        x = [ np.zeros((self.vocab_num, batch_size), dtype=float) for i in range(seq_len) ] \n",
    "        p = np.random.randint( self.data_size - 1 - seq_len,  size =(batch_size) )\n",
    "\n",
    "        for t in range(seq_len):\n",
    "            x_t = x[t]\n",
    "            for i in range(batch_size):                \n",
    "                x_t[self.data[p[i]+t], i] = 1\n",
    "            \n",
    "        return x\n",
    "            \n",
    "        \n",
    "        "
   ]
  },
  {
   "cell_type": "code",
   "execution_count": 58,
   "metadata": {},
   "outputs": [
    {
     "name": "stdout",
     "output_type": "stream",
     "text": [
      "word_to_index:{'，': 0, '。': 1, '\\n': 2, '不': 3, '人': 4, '山': 5, '风': 6, '日': 7, '云': 8, '无': 9}\n",
      "index_to_word:{0: '，', 1: '。', 2: '\\n', 3: '不', 4: '人', 5: '山', 6: '风', 7: '日', 8: '云', 9: '无'}\n",
      "[array([[0., 0.],\n",
      "       [0., 0.],\n",
      "       [1., 0.],\n",
      "       [0., 0.],\n",
      "       [0., 0.],\n",
      "       [0., 0.],\n",
      "       [0., 1.],\n",
      "       [0., 0.],\n",
      "       [0., 0.],\n",
      "       [0., 0.]]), array([[1., 0.],\n",
      "       [0., 1.],\n",
      "       [0., 0.],\n",
      "       [0., 0.],\n",
      "       [0., 0.],\n",
      "       [0., 0.],\n",
      "       [0., 0.],\n",
      "       [0., 0.],\n",
      "       [0., 0.],\n",
      "       [0., 0.]]), array([[0., 0.],\n",
      "       [1., 0.],\n",
      "       [0., 1.],\n",
      "       [0., 0.],\n",
      "       [0., 0.],\n",
      "       [0., 0.],\n",
      "       [0., 0.],\n",
      "       [0., 0.],\n",
      "       [0., 0.],\n",
      "       [0., 0.]])]\n"
     ]
    }
   ],
   "source": [
    "if __name__ == \"__main__\":\n",
    "    loader = TextDataLoader()\n",
    "    loader.load_data(\"poetry.txt\", 10)\n",
    "    print(\"word_to_index:%s\" % loader.word_to_index)\n",
    "    print(\"index_to_word:%s\" % loader.index_to_word)\n",
    "    print(loader.random_batch_onehot(3, 2) )\n"
   ]
  },
  {
   "cell_type": "code",
   "execution_count": null,
   "metadata": {},
   "outputs": [],
   "source": []
  },
  {
   "cell_type": "code",
   "execution_count": null,
   "metadata": {},
   "outputs": [],
   "source": []
  },
  {
   "cell_type": "code",
   "execution_count": null,
   "metadata": {},
   "outputs": [],
   "source": []
  }
 ],
 "metadata": {
  "kernelspec": {
   "display_name": "Python 3",
   "language": "python",
   "name": "python3"
  },
  "language_info": {
   "codemirror_mode": {
    "name": "ipython",
    "version": 3
   },
   "file_extension": ".py",
   "mimetype": "text/x-python",
   "name": "python",
   "nbconvert_exporter": "python",
   "pygments_lexer": "ipython3",
   "version": "3.7.1"
  },
  "toc": {
   "base_numbering": 1,
   "nav_menu": {},
   "number_sections": true,
   "sideBar": true,
   "skip_h1_title": false,
   "title_cell": "Table of Contents",
   "title_sidebar": "Contents",
   "toc_cell": false,
   "toc_position": {},
   "toc_section_display": true,
   "toc_window_display": false
  }
 },
 "nbformat": 4,
 "nbformat_minor": 2
}
